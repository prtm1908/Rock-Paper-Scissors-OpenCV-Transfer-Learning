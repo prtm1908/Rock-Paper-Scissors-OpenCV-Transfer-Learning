{
 "cells": [
  {
   "cell_type": "code",
   "execution_count": 16,
   "metadata": {},
   "outputs": [],
   "source": [
    "import cv2\n",
    "from keras.models import load_model\n",
    "import time\n",
    "from PIL import Image\n",
    "import numpy as np "
   ]
  },
  {
   "cell_type": "code",
   "execution_count": 17,
   "metadata": {},
   "outputs": [],
   "source": [
    "model=load_model('ClassificationModel.h5')"
   ]
  },
  {
   "cell_type": "code",
   "execution_count": 18,
   "metadata": {},
   "outputs": [],
   "source": [
    "labels={0:'paper',1:'rock',2:'scissors'}\n",
    "\n",
    "def predict(X):\n",
    "    predictions=model.predict(X)\n",
    "    predicted_classes = np.argmax(predictions, axis=1)\n",
    "    most_frequent_class_index = np.argmax(np.bincount(predicted_classes))\n",
    "    most_frequent_class_index=labels[most_frequent_class_index]\n",
    "    return most_frequent_class_index"
   ]
  },
  {
   "cell_type": "code",
   "execution_count": 19,
   "metadata": {},
   "outputs": [],
   "source": [
    "duration = 10\n",
    "i=0\n",
    "\n",
    "points1=0\n",
    "points2=0"
   ]
  },
  {
   "cell_type": "code",
   "execution_count": 20,
   "metadata": {},
   "outputs": [
    {
     "name": "stdout",
     "output_type": "stream",
     "text": [
      "8/8 [==============================] - 2s 211ms/step\n",
      "8/8 [==============================] - 1s 130ms/step\n",
      "scissors paper\n",
      "p1 points: 1\n",
      "p2 points: 0\n",
      "8/8 [==============================] - 1s 171ms/step\n",
      "8/8 [==============================] - 1s 138ms/step\n",
      "paper rock\n",
      "p1 points: 2\n",
      "p2 points: 0\n",
      "8/8 [==============================] - 1s 164ms/step\n",
      "8/8 [==============================] - 1s 148ms/step\n",
      "rock rock\n",
      "p1 points: 2\n",
      "p2 points: 0\n",
      "8/8 [==============================] - 1s 169ms/step\n",
      "8/8 [==============================] - 1s 145ms/step\n",
      "paper paper\n",
      "p1 points: 2\n",
      "p2 points: 0\n",
      "9/9 [==============================] - 1s 179ms/step\n",
      "9/9 [==============================] - 1s 146ms/step\n",
      "rock paper\n",
      "p1 points: 2\n",
      "p2 points: 1\n",
      "p1 wins\n"
     ]
    }
   ],
   "source": [
    "while(i<5):\n",
    "    i+=1\n",
    "\n",
    "    data1=[]\n",
    "    data2=[]\n",
    "\n",
    "    start_time = time.time()\n",
    "\n",
    "    cap=cv2.VideoCapture(0)\n",
    "\n",
    "    while time.time()-start_time<duration:\n",
    "        ret,frame=cap.read()\n",
    "        gray=cv2.cvtColor(frame,cv2.COLOR_BGR2GRAY)\n",
    "\n",
    "        height, width = frame.shape[:2]\n",
    "\n",
    "        cv2.rectangle(frame, (10, 120), (310, 320), (0, 0, 255), 2) \n",
    "        cv2.rectangle(frame, (330, 120), (630, 320), (0, 0, 255), 2)\n",
    "\n",
    "        # Create the two boxes\n",
    "        p1 = frame[120:320, 10:310]\n",
    "        p2 = frame[120:320, 330:630]\n",
    "\n",
    "        cv2.imshow('p1',p1)\n",
    "        cv2.imshow('p2',p2)\n",
    "        \n",
    "        data1.append(p1)\n",
    "        data2.append(p2)\n",
    "\n",
    "        cv2.imshow('Webcam Feed', frame)\n",
    "\n",
    "        if cv2.waitKey(1) & 0xFF == ord('q'):\n",
    "            break\n",
    "\n",
    "    cap.release()\n",
    "    cv2.destroyAllWindows()\n",
    "\n",
    "    X1 = np.asarray(data1)\n",
    "    X2 = np.asarray(data2)\n",
    "\n",
    "    prediction1=predict(X1)\n",
    "    prediction2=predict(X2)\n",
    "\n",
    "    if(prediction1=='rock' and prediction2=='scissors') or (prediction1=='scissors' and prediction2=='paper') or (prediction1=='paper' and prediction2=='rock'):\n",
    "        points1+=1\n",
    "    elif(prediction1==prediction2):\n",
    "        points1=points1\n",
    "        points2=points2\n",
    "    else:\n",
    "        points2+=1\n",
    "\n",
    "    print(prediction1,prediction2)\n",
    "    print('p1 points: '+str(points1))\n",
    "    print('p2 points: '+str(points2))\n",
    "\n",
    "if points1>points2:\n",
    "    print('p1 wins')\n",
    "elif points1<points2:\n",
    "    print('p2 wins')\n",
    "else:\n",
    "    print('tie')"
   ]
  }
 ],
 "metadata": {
  "kernelspec": {
   "display_name": "py39",
   "language": "python",
   "name": "python3"
  },
  "language_info": {
   "codemirror_mode": {
    "name": "ipython",
    "version": 3
   },
   "file_extension": ".py",
   "mimetype": "text/x-python",
   "name": "python",
   "nbconvert_exporter": "python",
   "pygments_lexer": "ipython3",
   "version": "3.9.17"
  },
  "orig_nbformat": 4
 },
 "nbformat": 4,
 "nbformat_minor": 2
}
